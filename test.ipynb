{
 "cells": [
  {
   "cell_type": "code",
   "execution_count": 56,
   "metadata": {},
   "outputs": [],
   "source": [
    "import datetime\n",
    "\n",
    "class QueueInstance:\n",
    "    id = 0\n",
    "    room_id = 0\n",
    "    summary = \"\"\n",
    "    helpee_user_id = 0\n",
    "    helper_user_id = 0\n",
    "    start_help_time = datetime.datetime.min \n",
    "    stop_help_actor_user_id =  datetime.datetime.min \n",
    "    stop_help_time = datetime.datetime.min \n",
    "    stop_help_type = datetime.datetime.min \n",
    "    created_at = datetime.datetime.min \n",
    "    updated_at = datetime.datetime.min \n",
    "    helpee_join_time = datetime.datetime.min\n",
    "    \n",
    "    \n",
    "    def __init__(self, var1, var2, var3, var4, var5, var6, var7, var8, var9, var10, var11, var12):\n",
    "        self.id = var1\n",
    "        self.room_id = var2\n",
    "        self.summary = var3\n",
    "        self.helpee_user_id = var4\n",
    "        self.helper_user_id = var5\n",
    "        self.start_help_time = var6\n",
    "        self.stop_help_actor_user_id = var7\n",
    "        self.stop_help_time = var8\n",
    "        self.stop_help_type = var9\n",
    "        self.created_at = var10\n",
    "        self.updated_at = var11\n",
    "        self.helpee_join_time = var12"
   ]
  },
  {
   "cell_type": "code",
   "execution_count": 57,
   "metadata": {},
   "outputs": [],
   "source": [
    "import csv\n",
    "from datetime import datetime\n",
    "import pytz\n",
    "\n",
    "cst_tz = pytz.timezone('US/Central')\n",
    "# populate all queue instances into a list \n",
    "my_list = []\n",
    "\n",
    "with open('cs128.csv', 'r') as f:\n",
    "    reader = csv.reader(f) #csv.DictReader\n",
    "    count = 0\n",
    "    for row in reader:\n",
    "        if count != 0:\n",
    "            try:\n",
    "                res = bool(datetime.strptime(row[5], '%Y-%m-%d %H:%M:%S.%f'))\n",
    "                res = bool(datetime.strptime(row[7], '%Y-%m-%d %H:%M:%S.%f'))\n",
    "                res = bool(datetime.strptime(row[9], '%Y-%m-%d %H:%M:%S.%f'))\n",
    "                res = bool(datetime.strptime(row[10], '%Y-%m-%d %H:%M:%S.%f'))\n",
    "                res = bool(datetime.strptime(row[11], '%Y-%m-%d %H:%M:%S.%f'))\n",
    "            except ValueError:\n",
    "                res = False\n",
    "            if res != False:\n",
    "                my_list.append(QueueInstance(row[0],\n",
    "                                            row[1],\n",
    "                                            row[2],\n",
    "                                            row[3],\n",
    "                                            row[4],\n",
    "                                            datetime.strptime(row[5],'%Y-%m-%d %H:%M:%S.%f').replace(tzinfo=pytz.utc).astimezone(cst_tz),\n",
    "                                            row[6],\n",
    "                                            datetime.strptime(row[7], '%Y-%m-%d %H:%M:%S.%f').replace(tzinfo=pytz.utc).astimezone(cst_tz),\n",
    "                                            row[8],\n",
    "                                            datetime.strptime(row[9], '%Y-%m-%d %H:%M:%S.%f').replace(tzinfo=pytz.utc).astimezone(cst_tz),\n",
    "                                            datetime.strptime(row[10], '%Y-%m-%d %H:%M:%S.%f').replace(tzinfo=pytz.utc).astimezone(cst_tz),\n",
    "                                            datetime.strptime(row[11], '%Y-%m-%d %H:%M:%S.%f').replace(tzinfo=pytz.utc).astimezone(cst_tz)))\n",
    "        count+=1\n"
   ]
  },
  {
   "cell_type": "code",
   "execution_count": 58,
   "metadata": {},
   "outputs": [],
   "source": [
    "from datetime import datetime\n",
    "from dateutil.parser import parse\n",
    "format_data = '%Y-%m-%d %H:%M:%S.%f' # maybe of use for later\n",
    "\n",
    " \n",
    "      \n",
    "my_list.sort(key=lambda date: date.created_at) # sort values based on the date it was created (if it wasnt already sorted)\n",
    "\n"
   ]
  },
  {
   "cell_type": "code",
   "execution_count": 59,
   "metadata": {},
   "outputs": [],
   "source": [
    "from datetime import datetime\n",
    "from collections import defaultdict\n",
    "\n",
    "# create defaultdict with list as default factory\n",
    "sorted_datetimes = defaultdict(list)\n",
    "\n",
    "# iterate over the datetime objects and add them to the defaultdict\n",
    "for dt in my_list:\n",
    "    key = f'{dt.created_at.year}-{dt.created_at.month}-{dt.created_at.day}'\n",
    "    sorted_datetimes[key].append(dt)"
   ]
  },
  {
   "cell_type": "code",
   "execution_count": null,
   "metadata": {},
   "outputs": [],
   "source": [
    "from datetime import datetime\n",
    "from itertools import groupby\n",
    "#from collections import defaultdict\n",
    "\n",
    "week_days = defaultdict(lambda: defaultdict(list))\n",
    "\n",
    "for key, values in sorted_datetimes.items():\n",
    "    for dt in values:\n",
    "        week = f'{dt.created_at.year}-W{dt.created_at.isocalendar()[1]}'\n",
    "        day = dt.created_at.strftime('%A')\n",
    "        week_days[week][day].append(dt)\n",
    "\n",
    "print(week_days)"
   ]
  },
  {
   "cell_type": "code",
   "execution_count": null,
   "metadata": {},
   "outputs": [],
   "source": [
    "import matplotlib.pyplot as plt\n",
    "\n",
    "for week, days in week_days.items():\n",
    "    days_count = {}\n",
    "    for day, values in days.items():\n",
    "        days_count[day] = len(values)\n",
    "    plt.figure()\n",
    "    plt.title(week)\n",
    "    plt.bar(days_count.keys(), days_count.values())\n",
    "    plt.xlabel(\"Day of the week\")\n",
    "    plt.ylabel(\"Number of occurrences\")\n",
    "    plt.show()"
   ]
  },
  {
   "cell_type": "code",
   "execution_count": null,
   "metadata": {},
   "outputs": [],
   "source": [
    "import matplotlib.pyplot as plt\n",
    "\n",
    "\n",
    "for week, days in week_days.items():\n",
    "    for day, values in days.items():\n",
    "        hour_values = [dt.created_at.hour for dt in values]\n",
    "        plt.figure()\n",
    "        plt.title(f\"{week} - {day}\")\n",
    "        plt.hist(hour_values, bins=24, density=True)\n",
    "        plt.xlabel(\"Hour of the day\")\n",
    "        plt.ylabel(\"Density\")\n",
    "        plt.xticks(range(24), [dt.strftime(\"%H\") for dt in [datetime.now().replace(hour=i) for i in range(24)]])\n",
    "        plt.show()"
   ]
  },
  {
   "cell_type": "code",
   "execution_count": null,
   "metadata": {},
   "outputs": [
    {
     "ename": "",
     "evalue": "",
     "output_type": "error",
     "traceback": [
      "\u001b[1;31mFailed to start the Kernel. \n",
      "\u001b[1;31mActivating extension 'ms-python.python' failed: TelemetrySender.sendEventData must be a function. \n",
      "\u001b[1;31mView Jupyter <a href='command:jupyter.viewOutput'>log</a> for further details."
     ]
    }
   ],
   "source": [
    "import pytz\n",
    "\n",
    "cst_tz = pytz.timezone('US/Central')\n",
    "\n",
    "for week, days in week_days.items():\n",
    "    for day, values in days.items():\n",
    "        hour_values = [dt.created_at.hour for dt in values]\n",
    "        values = [dt.created_at.replace(tzinfo=pytz.utc).astimezone(cst_tz) for dt in values] # convert the datetime objects from UTC to CST\n",
    "        hour_values = [dt.hour for dt in values]\n",
    "        plt.figure()\n",
    "        plt.title(f\"{week} - {day}\")\n",
    "        plt.hist(hour_values, bins=24, density=True)\n",
    "        plt.xlabel(\"Hour of the day\")\n",
    "        plt.ylabel(\"Density\")\n",
    "        plt.xticks(range(24), [dt.strftime(\"%H\") for dt in [datetime.now().replace(hour=i) for i in range(24)]])\n",
    "        plt.show()"
   ]
  },
  {
   "cell_type": "code",
   "execution_count": null,
   "metadata": {},
   "outputs": [
    {
     "ename": "",
     "evalue": "",
     "output_type": "error",
     "traceback": [
      "\u001b[1;31mFailed to start the Kernel. \n",
      "\u001b[1;31mActivating extension 'ms-python.python' failed: TelemetrySender.sendEventData must be a function. \n",
      "\u001b[1;31mView Jupyter <a href='command:jupyter.viewOutput'>log</a> for further details."
     ]
    }
   ],
   "source": [
    "import csv\n",
    "\n",
    "def create_user_objects(file_path):\n",
    "    with open(file_path, 'r') as file:\n",
    "        reader = csv.reader(file)\n",
    "        headers = next(reader)\n",
    "        days = headers[1:]\n",
    "        users = []\n",
    "        for row in reader:\n",
    "            user = {'name': row[0]}\n",
    "            working_days = [day for i, day in enumerate(days) if row[i + 1]]\n",
    "            user['working_days'] = working_days\n",
    "            users.append(user)\n",
    "    return users\n",
    "\n",
    "users = create_user_objects('file.csv')"
   ]
  },
  {
   "cell_type": "code",
   "execution_count": 81,
   "metadata": {},
   "outputs": [
    {
     "name": "stdout",
     "output_type": "stream",
     "text": [
      "                   0         1         2         3         4         5\n",
      "11-12          12-13     13-14     18-19     19-20     20-21     21-22\n",
      "cmunoz34    cmunoz34  cmunoz34      slp3      slp3   wenyus2  caylajr2\n",
      "gdurand2    gdurand2      bg16   augoel2   augoel2  caylajr2   seanlu2\n",
      "lsosani2      ewcai2    ewcai2  athisht2  athisht2   seanlu2     basu9\n",
      "bab8        lsosani2  samuela7   nwong27  junsitu2     basu9  junsitu2\n",
      "Unnamed: 5      bg16  lsosani2   kychou2   kychou2  junsitu2   kychou2\n",
      "Unnamed: 6  samuela7       NaN  samuela7       NaN   kychou2       NaN\n"
     ]
    }
   ],
   "source": [
    "import pandas as pd\n",
    "\n",
    "# Load the Excel file into a pandas DataFrame\n",
    "xl = pd.read_excel('/Users/georgesdurand/Downloads/22b-office-hours.xlsx', sheet_name=None)\n",
    "\n",
    "# Initialize a list to store the resulting DataFrames\n",
    "df_list = []\n",
    "weekly_schedule = {}\n",
    "# Loop through each sheet in the Excel file\n",
    "for sheet_name, df in xl.items():\n",
    "\n",
    "    \n",
    "    df = df.T\n",
    "    weekly_schedule[sheet_name] = df\n",
    "\n",
    "    df_list.append(df)\n",
    "\n",
    "# Concatenate the resulting DataFrames into a single DataFrame\n",
    "result = pd.concat(df_list)\n",
    "\n",
    "# Print the resulting DataFrame\n",
    "print(weekly_schedule[\"Tuesday\"])"
   ]
  },
  {
   "cell_type": "code",
   "execution_count": 82,
   "metadata": {},
   "outputs": [],
   "source": [
    "\n",
    "import pandas as pd\n",
    "sheet_names = pd.read_excel('/Users/georgesdurand/Downloads/22b-office-hours.xlsx', sheet_name=None).keys()\n",
    "dfs = {}\n",
    "for sheet in sheet_names:\n",
    "    df = pd.read_excel('/Users/georgesdurand/Downloads/22b-office-hours.xlsx', sheet_name=sheet, header=None)\n",
    "    df[['start_time', 'end_time']] = df[0].str.split(\"-\", expand=True)\n",
    "    df.drop(0, axis=1, inplace=True)\n",
    "    df = df.melt(id_vars=['start_time', 'end_time'], var_name='worker_num', value_name='staff_id')\n",
    "    df = df.dropna(subset=['staff_id'])\n",
    "    df = df.reset_index(drop=True)\n",
    "    dfs[sheet] = df"
   ]
  },
  {
   "cell_type": "code",
   "execution_count": 95,
   "metadata": {},
   "outputs": [
    {
     "name": "stdout",
     "output_type": "stream",
     "text": [
      "{'Monday': [(datetime.time(11, 0), datetime.time(12, 0)), (datetime.time(12, 0), datetime.time(13, 0)), (datetime.time(13, 0), datetime.time(14, 0))], 'Tuesday': [(datetime.time(11, 0), datetime.time(12, 0)), (datetime.time(12, 0), datetime.time(13, 0))], 'Wednesday': [(datetime.time(11, 0), datetime.time(12, 0)), (datetime.time(12, 0), datetime.time(13, 0))], 'Thursday': [(datetime.time(11, 0), datetime.time(12, 0)), (datetime.time(12, 0), datetime.time(13, 0))], 'Friday': [], 'Saturday': [], 'Sunday': [(datetime.time(11, 0), datetime.time(12, 0)), (datetime.time(12, 0), datetime.time(13, 0))]}\n"
     ]
    }
   ],
   "source": [
    "from datetime import datetime, timedelta\n",
    "from datetime import timedelta\n",
    "class Staff_Member:\n",
    "    def __init__(self, id):\n",
    "        self.id = id\n",
    "        self.schedule = {\n",
    "            'Monday': [],\n",
    "            'Tuesday': [],\n",
    "            'Wednesday': [],\n",
    "            'Thursday': [],\n",
    "            'Friday': [],\n",
    "            'Saturday': [],\n",
    "            'Sunday': []\n",
    "        }\n",
    "        self.hours_to_work = {\n",
    "            'Monday': 0,\n",
    "            'Tuesday': 0,\n",
    "            'Wednesday': 0,\n",
    "            'Thursday': 0,\n",
    "            'Friday': 0,\n",
    "            'Saturday': 0,\n",
    "            'Sunday': 0\n",
    "        }\n",
    "        self.weeks_work = {}\n",
    "        \n",
    "    def add_shift(self, day, start_time, end_time):\n",
    "        \n",
    "        self.schedule[day].append((start_time, end_time))\n",
    "        start_timedelta = timedelta(hours=start_time.hour)\n",
    "        end_timedelta = timedelta(hours=end_time.hour)\n",
    "        hours_to_work = end_timedelta - start_timedelta\n",
    "        self.hours_to_work[day] += hours_to_work.total_seconds() / 3600\n",
    "    def add_week(self, day, schedule):\n",
    "        week_start = day - timedelta(days=day.weekday())\n",
    "        self.weeks_work[week_start] = schedule   \n",
    "        \n",
    "    def get_schedule(self):\n",
    "        return self.schedule\n",
    "    def get_hours_to_work(self):\n",
    "        return self.hours_to_work\n",
    "    def get_weeks_work(self):\n",
    "        return self.weeks_work\n",
    "\n",
    "staff_members = {}\n",
    "\n",
    "for day, df in dfs.items():\n",
    "    staff_ids = df['staff_id'].unique()\n",
    "\n",
    "    for staff_id in staff_ids:\n",
    "        if staff_id not in staff_members:\n",
    "            staff_members[staff_id] = Staff_Member(staff_id)\n",
    "        \n",
    "        shifts = df.loc[df['staff_id'] == staff_id, ['start_time', 'end_time']]\n",
    "    \n",
    "        for _, shift in shifts.iterrows():\n",
    "            start_time = datetime.strptime(shift['start_time'], '%H').time()\n",
    "            end_time = datetime.strptime(shift['end_time'], '%H').time()\n",
    "            staff_members[staff_id].add_shift(day, start_time, end_time)\n",
    "            \n",
    "worker = staff_members['gdurand2']\n",
    "\n",
    "print(worker.schedule)\n",
    "\n",
    "# 1 map of staff members where key net id of staff member second key is week, the value is the dictionary with key day of week and value queue instances\n",
    "\n",
    "# 2 map where the key is the week (Year-Week) and the second key is the day of that week where the valuue is the queue instances that include all staff members\n",
    "\n",
    "#iterate through all the weeks, then all the days of those weeks, for each queue instance, we have the netid, meaning we can populate 1.\n",
    "\n",
    "# map1[QueueInstance.netId][week][day].append(QueueInstance)\n",
    "\n",
    "\n",
    "\n",
    "\n",
    "\n"
   ]
  },
  {
   "cell_type": "code",
   "execution_count": 94,
   "metadata": {},
   "outputs": [
    {
     "ename": "AttributeError",
     "evalue": "'QueueInstance' object has no attribute 'staff_id'",
     "output_type": "error",
     "traceback": [
      "\u001b[0;31m---------------------------------------------------------------------------\u001b[0m",
      "\u001b[0;31mAttributeError\u001b[0m                            Traceback (most recent call last)",
      "Cell \u001b[0;32mIn [94], line 9\u001b[0m\n\u001b[1;32m      7\u001b[0m                 staff_dict[staff_id][week][day_of_week]\u001b[39m.\u001b[39mappend(queue_instance)\n\u001b[1;32m      8\u001b[0m     \u001b[39mreturn\u001b[39;00m staff_dict\n\u001b[0;32m----> 9\u001b[0m parse_weekdays(week_days)\n",
      "Cell \u001b[0;32mIn [94], line 6\u001b[0m, in \u001b[0;36mparse_weekdays\u001b[0;34m(weekdays)\u001b[0m\n\u001b[1;32m      4\u001b[0m     \u001b[39mfor\u001b[39;00m day_of_week, queue_instances \u001b[39min\u001b[39;00m week_days\u001b[39m.\u001b[39mitems():\n\u001b[1;32m      5\u001b[0m         \u001b[39mfor\u001b[39;00m queue_instance \u001b[39min\u001b[39;00m queue_instances:\n\u001b[0;32m----> 6\u001b[0m             staff_id \u001b[39m=\u001b[39m queue_instance\u001b[39m.\u001b[39;49mstaff_id\n\u001b[1;32m      7\u001b[0m             staff_dict[staff_id][week][day_of_week]\u001b[39m.\u001b[39mappend(queue_instance)\n\u001b[1;32m      8\u001b[0m \u001b[39mreturn\u001b[39;00m staff_dict\n",
      "\u001b[0;31mAttributeError\u001b[0m: 'QueueInstance' object has no attribute 'staff_id'"
     ]
    }
   ],
   "source": [
    "def parse_weekdays(weekdays):\n",
    "    staff_dict = defaultdict(lambda: defaultdict(lambda: defaultdict(list)))\n",
    "    for week, week_days in weekdays.items():\n",
    "        for day_of_week, queue_instances in week_days.items():\n",
    "            for queue_instance in queue_instances:\n",
    "                staff_id = queue_instance.staff_id\n",
    "                staff_dict[staff_id][week][day_of_week].append(queue_instance)\n",
    "    return staff_dict\n",
    "parse_weekdays(week_days)\n"
   ]
  },
  {
   "cell_type": "code",
   "execution_count": 1,
   "metadata": {},
   "outputs": [
    {
     "ename": "NameError",
     "evalue": "name 'my_list' is not defined",
     "output_type": "error",
     "traceback": [
      "\u001b[0;31m---------------------------------------------------------------------------\u001b[0m",
      "\u001b[0;31mNameError\u001b[0m                                 Traceback (most recent call last)",
      "Cell \u001b[0;32mIn [1], line 30\u001b[0m\n\u001b[1;32m     27\u001b[0m                 helper_week_times[helper_id]\u001b[39m.\u001b[39mappend((start, queue\u001b[39m.\u001b[39mstop_help_time))\n\u001b[1;32m     28\u001b[0m     \u001b[39mreturn\u001b[39;00m helper_week_times\n\u001b[0;32m---> 30\u001b[0m helper_week_times \u001b[39m=\u001b[39m find_help_times_per_week(my_list, \u001b[39m7\u001b[39m)\n\u001b[1;32m     32\u001b[0m helper_week_times[\u001b[39m'\u001b[39m\u001b[39m28\u001b[39m\u001b[39m'\u001b[39m]\n",
      "\u001b[0;31mNameError\u001b[0m: name 'my_list' is not defined"
     ]
    }
   ],
   "source": [
    "from collections import defaultdict\n",
    "from datetime import timedelta\n",
    "\n",
    "def find_help_times_per_week(queue_instances, week_days):\n",
    "    sorted_datetimes = defaultdict(list)\n",
    "    for queue in queue_instances:\n",
    "        sorted_datetimes[queue.helper_user_id].append(queue)\n",
    "\n",
    "    helper_week_times = defaultdict(list)\n",
    "    for helper_id, queues in sorted_datetimes.items():\n",
    "        queues.sort(key=lambda q: q.start_help_time)\n",
    "        start = queues[0].start_help_time\n",
    "        stop = start + timedelta(days=week_days)\n",
    "        for queue in queues:\n",
    "            if queue.start_help_time < stop:\n",
    "                if queue.stop_help_time > stop:\n",
    "                    helper_week_times[helper_id].append((start, stop))\n",
    "                    start = stop\n",
    "                    stop = start + timedelta(days=week_days)\n",
    "                else:\n",
    "                    helper_week_times[helper_id].append((start, queue.stop_help_time))\n",
    "                    start = stop\n",
    "                    stop = start + timedelta(days=week_days)\n",
    "            else:\n",
    "                start = queue.start_help_time\n",
    "                stop = start + timedelta(days=week_days)\n",
    "                helper_week_times[helper_id].append((start, queue.stop_help_time))\n",
    "    return helper_week_times\n",
    "\n",
    "helper_week_times = find_help_times_per_week(my_list, 7)\n",
    "\n",
    "helper_week_times['28']"
   ]
  }
 ],
 "metadata": {
  "kernelspec": {
   "display_name": "Python 3",
   "language": "python",
   "name": "python3"
  },
  "language_info": {
   "codemirror_mode": {
    "name": "ipython",
    "version": 3
   },
   "file_extension": ".py",
   "mimetype": "text/x-python",
   "name": "python",
   "nbconvert_exporter": "python",
   "pygments_lexer": "ipython3",
   "version": "3.10.8"
  },
  "orig_nbformat": 4,
  "vscode": {
   "interpreter": {
    "hash": "b0fa6594d8f4cbf19f97940f81e996739fb7646882a419484c72d19e05852a7e"
   }
  }
 },
 "nbformat": 4,
 "nbformat_minor": 2
}
