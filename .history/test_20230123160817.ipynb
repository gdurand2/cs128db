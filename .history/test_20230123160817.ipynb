{
 "cells": [
  {
   "cell_type": "code",
   "execution_count": 3,
   "metadata": {},
   "outputs": [],
   "source": [
    "import datetime\n",
    "\n",
    "class QueueInstance:\n",
    "    id = 0\n",
    "    room_id = 0\n",
    "    summary = \"\"\n",
    "    helpee_user_id = 0\n",
    "    helper_user_id = 0\n",
    "    start_help_time = datetime.datetime.min \n",
    "    stop_help_actor_user_id =  datetime.datetime.min \n",
    "    stop_help_time = datetime.datetime.min \n",
    "    stop_help_type = datetime.datetime.min \n",
    "    created_at = datetime.datetime.min \n",
    "    updated_at = datetime.datetime.min \n",
    "    helpee_join_time = datetime.datetime.min\n",
    "    \n",
    "    \n",
    "    def __init__(self, var1, var2, var3, var4, var5, var6, var7, var8, var9, var10, var11, var12):\n",
    "        self.id = var1\n",
    "        self.room_id = var2\n",
    "        self.summary = var3\n",
    "        self.helpee_user_id = var4\n",
    "        self.helper_user_id = var5\n",
    "        self.start_help_time = var6\n",
    "        self.stop_help_actor_user_id = var7\n",
    "        self.stop_help_time = var8\n",
    "        self.stop_help_type = var9\n",
    "        self.created_at = var10\n",
    "        self.updated_at = var11\n",
    "        self.helpee_join_time = var12"
   ]
  },
  {
   "cell_type": "code",
   "execution_count": 5,
   "metadata": {},
   "outputs": [],
   "source": [
    "import csv\n",
    "\n",
    "my_list = []\n",
    "\n",
    "with open('cs128.csv', 'r') as f:\n",
    "    reader = csv.reader(f)\n",
    "    for row in reader:\n",
    "        my_list.append(QueueInstance(row[0], row[1], row[2], row[3], row[4], row[5], row[6], row[7], row[8], row[9], row[10], row[11]))"
   ]
  },
  {
   "cell_type": "code",
   "execution_count": 8,
   "metadata": {},
   "outputs": [
    {
     "name": "stdout",
     "output_type": "stream",
     "text": [
      "2022-06-13 05:13:55.286135\n"
     ]
    }
   ],
   "source": [
    "print(my_list[1].stop_elp_time)"
   ]
  }
 ],
 "metadata": {
  "kernelspec": {
   "display_name": "Python 3",
   "language": "python",
   "name": "python3"
  },
  "language_info": {
   "codemirror_mode": {
    "name": "ipython",
    "version": 3
   },
   "file_extension": ".py",
   "mimetype": "text/x-python",
   "name": "python",
   "nbconvert_exporter": "python",
   "pygments_lexer": "ipython3",
   "version": "3.10.8"
  },
  "orig_nbformat": 4,
  "vscode": {
   "interpreter": {
    "hash": "b0fa6594d8f4cbf19f97940f81e996739fb7646882a419484c72d19e05852a7e"
   }
  }
 },
 "nbformat": 4,
 "nbformat_minor": 2
}
